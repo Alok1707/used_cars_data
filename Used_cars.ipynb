{
 "cells": [
  {
   "cell_type": "code",
   "execution_count": 123,
   "id": "e34d23d0",
   "metadata": {},
   "outputs": [],
   "source": [
    "import numpy as np\n",
    "import pandas as pd\n",
    "import matplotlib.pyplot as plt\n",
    "import seaborn as sns"
   ]
  },
  {
   "cell_type": "code",
   "execution_count": 124,
   "id": "6e655775",
   "metadata": {},
   "outputs": [],
   "source": [
    "import glob"
   ]
  },
  {
   "cell_type": "code",
   "execution_count": 125,
   "id": "d22278d5",
   "metadata": {},
   "outputs": [
    {
     "data": {
      "text/plain": [
       "['vehicles.csv']"
      ]
     },
     "execution_count": 125,
     "metadata": {},
     "output_type": "execute_result"
    }
   ],
   "source": [
    "glob.glob('vehicles.csv')"
   ]
  },
  {
   "cell_type": "code",
   "execution_count": 126,
   "id": "d4dfbcf8",
   "metadata": {},
   "outputs": [],
   "source": [
    "tf_data = pd.read_csv('vehicles.csv', chunksize=100000)"
   ]
  },
  {
   "cell_type": "code",
   "execution_count": 127,
   "id": "95519542",
   "metadata": {},
   "outputs": [],
   "source": [
    "for i, chunk in enumerate(tf_data):\n",
    "    df = chunk\n",
    "    break"
   ]
  },
  {
   "cell_type": "code",
   "execution_count": 128,
   "id": "fb9794b3",
   "metadata": {
    "scrolled": false
   },
   "outputs": [
    {
     "name": "stdout",
     "output_type": "stream",
     "text": [
      "<class 'pandas.core.frame.DataFrame'>\n",
      "RangeIndex: 100000 entries, 0 to 99999\n",
      "Data columns (total 26 columns):\n",
      " #   Column        Non-Null Count   Dtype  \n",
      "---  ------        --------------   -----  \n",
      " 0   id            100000 non-null  int64  \n",
      " 1   url           100000 non-null  object \n",
      " 2   region        100000 non-null  object \n",
      " 3   region_url    100000 non-null  object \n",
      " 4   price         100000 non-null  int64  \n",
      " 5   year          99572 non-null   float64\n",
      " 6   manufacturer  95580 non-null   object \n",
      " 7   model         98715 non-null   object \n",
      " 8   condition     61711 non-null   object \n",
      " 9   cylinders     59841 non-null   object \n",
      " 10  fuel          99397 non-null   object \n",
      " 11  odometer      98479 non-null   float64\n",
      " 12  title_status  97721 non-null   object \n",
      " 13  transmission  99486 non-null   object \n",
      " 14  VIN           63962 non-null   object \n",
      " 15  drive         69526 non-null   object \n",
      " 16  size          27846 non-null   object \n",
      " 17  type          80389 non-null   object \n",
      " 18  paint_color   70224 non-null   object \n",
      " 19  image_url     99962 non-null   object \n",
      " 20  description   99961 non-null   object \n",
      " 21  county        0 non-null       float64\n",
      " 22  state         100000 non-null  object \n",
      " 23  lat           99461 non-null   float64\n",
      " 24  long          99461 non-null   float64\n",
      " 25  posting_date  99962 non-null   object \n",
      "dtypes: float64(5), int64(2), object(19)\n",
      "memory usage: 19.8+ MB\n"
     ]
    }
   ],
   "source": [
    "df.info()"
   ]
  },
  {
   "cell_type": "code",
   "execution_count": 129,
   "id": "3fa11b2c",
   "metadata": {},
   "outputs": [
    {
     "data": {
      "text/plain": [
       "420000"
      ]
     },
     "execution_count": 129,
     "metadata": {},
     "output_type": "execute_result"
    }
   ],
   "source": [
    "42*10000"
   ]
  },
  {
   "cell_type": "code",
   "execution_count": 130,
   "id": "c8cdec11",
   "metadata": {
    "scrolled": false
   },
   "outputs": [
    {
     "data": {
      "text/html": [
       "<div>\n",
       "<style scoped>\n",
       "    .dataframe tbody tr th:only-of-type {\n",
       "        vertical-align: middle;\n",
       "    }\n",
       "\n",
       "    .dataframe tbody tr th {\n",
       "        vertical-align: top;\n",
       "    }\n",
       "\n",
       "    .dataframe thead th {\n",
       "        text-align: right;\n",
       "    }\n",
       "</style>\n",
       "<table border=\"1\" class=\"dataframe\">\n",
       "  <thead>\n",
       "    <tr style=\"text-align: right;\">\n",
       "      <th></th>\n",
       "      <th>id</th>\n",
       "      <th>url</th>\n",
       "      <th>region</th>\n",
       "      <th>region_url</th>\n",
       "      <th>price</th>\n",
       "      <th>year</th>\n",
       "      <th>manufacturer</th>\n",
       "      <th>model</th>\n",
       "      <th>condition</th>\n",
       "      <th>cylinders</th>\n",
       "      <th>...</th>\n",
       "      <th>size</th>\n",
       "      <th>type</th>\n",
       "      <th>paint_color</th>\n",
       "      <th>image_url</th>\n",
       "      <th>description</th>\n",
       "      <th>county</th>\n",
       "      <th>state</th>\n",
       "      <th>lat</th>\n",
       "      <th>long</th>\n",
       "      <th>posting_date</th>\n",
       "    </tr>\n",
       "  </thead>\n",
       "  <tbody>\n",
       "    <tr>\n",
       "      <th>99995</th>\n",
       "      <td>7309358353</td>\n",
       "      <td>https://jacksonville.craigslist.org/ctd/d/jack...</td>\n",
       "      <td>jacksonville</td>\n",
       "      <td>https://jacksonville.craigslist.org</td>\n",
       "      <td>49395</td>\n",
       "      <td>2019.0</td>\n",
       "      <td>chevrolet</td>\n",
       "      <td>silverado trail boss</td>\n",
       "      <td>new</td>\n",
       "      <td>8 cylinders</td>\n",
       "      <td>...</td>\n",
       "      <td>full-size</td>\n",
       "      <td>pickup</td>\n",
       "      <td>red</td>\n",
       "      <td>https://images.craigslist.org/00x0x_cg9hmWpOhy...</td>\n",
       "      <td>*** MINT CONDITION *** BRAND NEW 7\" PRO COMP. ...</td>\n",
       "      <td>NaN</td>\n",
       "      <td>fl</td>\n",
       "      <td>30.207288</td>\n",
       "      <td>-81.738969</td>\n",
       "      <td>2021-04-19T13:50:58-0400</td>\n",
       "    </tr>\n",
       "    <tr>\n",
       "      <th>99996</th>\n",
       "      <td>7309358251</td>\n",
       "      <td>https://jacksonville.craigslist.org/ctd/d/jack...</td>\n",
       "      <td>jacksonville</td>\n",
       "      <td>https://jacksonville.craigslist.org</td>\n",
       "      <td>18590</td>\n",
       "      <td>2018.0</td>\n",
       "      <td>kia</td>\n",
       "      <td>sportage lx sport utility 4d</td>\n",
       "      <td>good</td>\n",
       "      <td>NaN</td>\n",
       "      <td>...</td>\n",
       "      <td>NaN</td>\n",
       "      <td>other</td>\n",
       "      <td>silver</td>\n",
       "      <td>https://images.craigslist.org/00o0o_4QCkqtOcFy...</td>\n",
       "      <td>Carvana is the safer way to buy a car During t...</td>\n",
       "      <td>NaN</td>\n",
       "      <td>fl</td>\n",
       "      <td>30.330000</td>\n",
       "      <td>-81.650000</td>\n",
       "      <td>2021-04-19T13:50:50-0400</td>\n",
       "    </tr>\n",
       "    <tr>\n",
       "      <th>99997</th>\n",
       "      <td>7309355294</td>\n",
       "      <td>https://jacksonville.craigslist.org/ctd/d/jack...</td>\n",
       "      <td>jacksonville</td>\n",
       "      <td>https://jacksonville.craigslist.org</td>\n",
       "      <td>49495</td>\n",
       "      <td>2019.0</td>\n",
       "      <td>chevrolet</td>\n",
       "      <td>silverado trail boss</td>\n",
       "      <td>new</td>\n",
       "      <td>8 cylinders</td>\n",
       "      <td>...</td>\n",
       "      <td>full-size</td>\n",
       "      <td>pickup</td>\n",
       "      <td>red</td>\n",
       "      <td>https://images.craigslist.org/00x0x_cg9hmWpOhy...</td>\n",
       "      <td>*** MINT CONDITION *** BRAND NEW 7\" PRO COMP. ...</td>\n",
       "      <td>NaN</td>\n",
       "      <td>fl</td>\n",
       "      <td>30.207288</td>\n",
       "      <td>-81.738969</td>\n",
       "      <td>2021-04-19T13:46:36-0400</td>\n",
       "    </tr>\n",
       "    <tr>\n",
       "      <th>99998</th>\n",
       "      <td>7309354677</td>\n",
       "      <td>https://jacksonville.craigslist.org/ctd/d/jack...</td>\n",
       "      <td>jacksonville</td>\n",
       "      <td>https://jacksonville.craigslist.org</td>\n",
       "      <td>24495</td>\n",
       "      <td>2014.0</td>\n",
       "      <td>chevrolet</td>\n",
       "      <td>silverado 1500 lt 4x4</td>\n",
       "      <td>excellent</td>\n",
       "      <td>8 cylinders</td>\n",
       "      <td>...</td>\n",
       "      <td>full-size</td>\n",
       "      <td>truck</td>\n",
       "      <td>white</td>\n",
       "      <td>https://images.craigslist.org/00f0f_djNCWjHFxp...</td>\n",
       "      <td>*** MINT CONDITION *** CLEAN CARFAX - NO ACCID...</td>\n",
       "      <td>NaN</td>\n",
       "      <td>fl</td>\n",
       "      <td>30.207288</td>\n",
       "      <td>-81.738969</td>\n",
       "      <td>2021-04-19T13:45:40-0400</td>\n",
       "    </tr>\n",
       "    <tr>\n",
       "      <th>99999</th>\n",
       "      <td>7309345725</td>\n",
       "      <td>https://jacksonville.craigslist.org/ctd/d/1989...</td>\n",
       "      <td>jacksonville</td>\n",
       "      <td>https://jacksonville.craigslist.org</td>\n",
       "      <td>12999</td>\n",
       "      <td>1989.0</td>\n",
       "      <td>jeep</td>\n",
       "      <td>wrangler</td>\n",
       "      <td>excellent</td>\n",
       "      <td>4 cylinders</td>\n",
       "      <td>...</td>\n",
       "      <td>compact</td>\n",
       "      <td>convertible</td>\n",
       "      <td>red</td>\n",
       "      <td>https://images.craigslist.org/00v0v_98ytOxORM0...</td>\n",
       "      <td>....WE HAVE MANY CLASSIC JEEPS @ EZCustom4x4.c...</td>\n",
       "      <td>NaN</td>\n",
       "      <td>fl</td>\n",
       "      <td>28.712000</td>\n",
       "      <td>-81.355200</td>\n",
       "      <td>2021-04-19T13:33:00-0400</td>\n",
       "    </tr>\n",
       "  </tbody>\n",
       "</table>\n",
       "<p>5 rows × 26 columns</p>\n",
       "</div>"
      ],
      "text/plain": [
       "               id                                                url  \\\n",
       "99995  7309358353  https://jacksonville.craigslist.org/ctd/d/jack...   \n",
       "99996  7309358251  https://jacksonville.craigslist.org/ctd/d/jack...   \n",
       "99997  7309355294  https://jacksonville.craigslist.org/ctd/d/jack...   \n",
       "99998  7309354677  https://jacksonville.craigslist.org/ctd/d/jack...   \n",
       "99999  7309345725  https://jacksonville.craigslist.org/ctd/d/1989...   \n",
       "\n",
       "             region                           region_url  price    year  \\\n",
       "99995  jacksonville  https://jacksonville.craigslist.org  49395  2019.0   \n",
       "99996  jacksonville  https://jacksonville.craigslist.org  18590  2018.0   \n",
       "99997  jacksonville  https://jacksonville.craigslist.org  49495  2019.0   \n",
       "99998  jacksonville  https://jacksonville.craigslist.org  24495  2014.0   \n",
       "99999  jacksonville  https://jacksonville.craigslist.org  12999  1989.0   \n",
       "\n",
       "      manufacturer                         model  condition    cylinders  ...  \\\n",
       "99995    chevrolet          silverado trail boss        new  8 cylinders  ...   \n",
       "99996          kia  sportage lx sport utility 4d       good          NaN  ...   \n",
       "99997    chevrolet          silverado trail boss        new  8 cylinders  ...   \n",
       "99998    chevrolet         silverado 1500 lt 4x4  excellent  8 cylinders  ...   \n",
       "99999         jeep                      wrangler  excellent  4 cylinders  ...   \n",
       "\n",
       "            size         type paint_color  \\\n",
       "99995  full-size       pickup         red   \n",
       "99996        NaN        other      silver   \n",
       "99997  full-size       pickup         red   \n",
       "99998  full-size        truck       white   \n",
       "99999    compact  convertible         red   \n",
       "\n",
       "                                               image_url  \\\n",
       "99995  https://images.craigslist.org/00x0x_cg9hmWpOhy...   \n",
       "99996  https://images.craigslist.org/00o0o_4QCkqtOcFy...   \n",
       "99997  https://images.craigslist.org/00x0x_cg9hmWpOhy...   \n",
       "99998  https://images.craigslist.org/00f0f_djNCWjHFxp...   \n",
       "99999  https://images.craigslist.org/00v0v_98ytOxORM0...   \n",
       "\n",
       "                                             description county state  \\\n",
       "99995  *** MINT CONDITION *** BRAND NEW 7\" PRO COMP. ...    NaN    fl   \n",
       "99996  Carvana is the safer way to buy a car During t...    NaN    fl   \n",
       "99997  *** MINT CONDITION *** BRAND NEW 7\" PRO COMP. ...    NaN    fl   \n",
       "99998  *** MINT CONDITION *** CLEAN CARFAX - NO ACCID...    NaN    fl   \n",
       "99999  ....WE HAVE MANY CLASSIC JEEPS @ EZCustom4x4.c...    NaN    fl   \n",
       "\n",
       "             lat       long              posting_date  \n",
       "99995  30.207288 -81.738969  2021-04-19T13:50:58-0400  \n",
       "99996  30.330000 -81.650000  2021-04-19T13:50:50-0400  \n",
       "99997  30.207288 -81.738969  2021-04-19T13:46:36-0400  \n",
       "99998  30.207288 -81.738969  2021-04-19T13:45:40-0400  \n",
       "99999  28.712000 -81.355200  2021-04-19T13:33:00-0400  \n",
       "\n",
       "[5 rows x 26 columns]"
      ]
     },
     "execution_count": 130,
     "metadata": {},
     "output_type": "execute_result"
    }
   ],
   "source": [
    "df.tail()"
   ]
  },
  {
   "cell_type": "code",
   "execution_count": 131,
   "id": "02b35087",
   "metadata": {},
   "outputs": [
    {
     "name": "stdout",
     "output_type": "stream",
     "text": [
      "<class 'pandas.core.frame.DataFrame'>\n",
      "RangeIndex: 100000 entries, 0 to 99999\n",
      "Data columns (total 6 columns):\n",
      " #   Column        Non-Null Count   Dtype  \n",
      "---  ------        --------------   -----  \n",
      " 0   price         100000 non-null  int64  \n",
      " 1   year          99572 non-null   float64\n",
      " 2   manufacturer  95580 non-null   object \n",
      " 3   model         98715 non-null   object \n",
      " 4   condition     61711 non-null   object \n",
      " 5   cylinders     59841 non-null   object \n",
      "dtypes: float64(1), int64(1), object(4)\n",
      "memory usage: 4.6+ MB\n"
     ]
    }
   ],
   "source": [
    "df[['price','year','manufacturer','model','condition','cylinders']].info()"
   ]
  },
  {
   "cell_type": "code",
   "execution_count": 132,
   "id": "8f945f24",
   "metadata": {},
   "outputs": [],
   "source": [
    "tf_data2 = pd.read_csv('vehicles.csv', usecols=['price','year','manufacturer','model','condition','cylinders'])"
   ]
  },
  {
   "cell_type": "code",
   "execution_count": 133,
   "id": "6f5b9eab",
   "metadata": {
    "scrolled": true
   },
   "outputs": [
    {
     "data": {
      "text/plain": [
       "(426880, 6)"
      ]
     },
     "execution_count": 133,
     "metadata": {},
     "output_type": "execute_result"
    }
   ],
   "source": [
    "tf_data2.shape"
   ]
  },
  {
   "cell_type": "code",
   "execution_count": 134,
   "id": "511da529",
   "metadata": {
    "scrolled": true
   },
   "outputs": [
    {
     "data": {
      "text/html": [
       "<div>\n",
       "<style scoped>\n",
       "    .dataframe tbody tr th:only-of-type {\n",
       "        vertical-align: middle;\n",
       "    }\n",
       "\n",
       "    .dataframe tbody tr th {\n",
       "        vertical-align: top;\n",
       "    }\n",
       "\n",
       "    .dataframe thead th {\n",
       "        text-align: right;\n",
       "    }\n",
       "</style>\n",
       "<table border=\"1\" class=\"dataframe\">\n",
       "  <thead>\n",
       "    <tr style=\"text-align: right;\">\n",
       "      <th></th>\n",
       "      <th>price</th>\n",
       "      <th>year</th>\n",
       "      <th>manufacturer</th>\n",
       "      <th>model</th>\n",
       "      <th>condition</th>\n",
       "      <th>cylinders</th>\n",
       "    </tr>\n",
       "  </thead>\n",
       "  <tbody>\n",
       "    <tr>\n",
       "      <th>0</th>\n",
       "      <td>6000</td>\n",
       "      <td>NaN</td>\n",
       "      <td>NaN</td>\n",
       "      <td>NaN</td>\n",
       "      <td>NaN</td>\n",
       "      <td>NaN</td>\n",
       "    </tr>\n",
       "    <tr>\n",
       "      <th>1</th>\n",
       "      <td>11900</td>\n",
       "      <td>NaN</td>\n",
       "      <td>NaN</td>\n",
       "      <td>NaN</td>\n",
       "      <td>NaN</td>\n",
       "      <td>NaN</td>\n",
       "    </tr>\n",
       "    <tr>\n",
       "      <th>2</th>\n",
       "      <td>21000</td>\n",
       "      <td>NaN</td>\n",
       "      <td>NaN</td>\n",
       "      <td>NaN</td>\n",
       "      <td>NaN</td>\n",
       "      <td>NaN</td>\n",
       "    </tr>\n",
       "    <tr>\n",
       "      <th>3</th>\n",
       "      <td>1500</td>\n",
       "      <td>NaN</td>\n",
       "      <td>NaN</td>\n",
       "      <td>NaN</td>\n",
       "      <td>NaN</td>\n",
       "      <td>NaN</td>\n",
       "    </tr>\n",
       "    <tr>\n",
       "      <th>4</th>\n",
       "      <td>4900</td>\n",
       "      <td>NaN</td>\n",
       "      <td>NaN</td>\n",
       "      <td>NaN</td>\n",
       "      <td>NaN</td>\n",
       "      <td>NaN</td>\n",
       "    </tr>\n",
       "  </tbody>\n",
       "</table>\n",
       "</div>"
      ],
      "text/plain": [
       "   price  year manufacturer model condition cylinders\n",
       "0   6000   NaN          NaN   NaN       NaN       NaN\n",
       "1  11900   NaN          NaN   NaN       NaN       NaN\n",
       "2  21000   NaN          NaN   NaN       NaN       NaN\n",
       "3   1500   NaN          NaN   NaN       NaN       NaN\n",
       "4   4900   NaN          NaN   NaN       NaN       NaN"
      ]
     },
     "execution_count": 134,
     "metadata": {},
     "output_type": "execute_result"
    }
   ],
   "source": [
    "tf_data2.head()"
   ]
  },
  {
   "cell_type": "code",
   "execution_count": 148,
   "id": "71747b91",
   "metadata": {
    "scrolled": false
   },
   "outputs": [
    {
     "name": "stdout",
     "output_type": "stream",
     "text": [
      "<class 'pandas.core.frame.DataFrame'>\n",
      "Int64Index: 425675 entries, 27 to 426879\n",
      "Data columns (total 6 columns):\n",
      " #   Column        Non-Null Count   Dtype  \n",
      "---  ------        --------------   -----  \n",
      " 0   price         425675 non-null  int64  \n",
      " 1   year          425675 non-null  float64\n",
      " 2   manufacturer  409228 non-null  object \n",
      " 3   model         420466 non-null  object \n",
      " 4   condition     252766 non-null  object \n",
      " 5   cylinders     248084 non-null  object \n",
      "dtypes: float64(1), int64(1), object(4)\n",
      "memory usage: 22.7+ MB\n"
     ]
    }
   ],
   "source": [
    "tf_data2.info()"
   ]
  },
  {
   "cell_type": "code",
   "execution_count": 168,
   "id": "d25af245",
   "metadata": {},
   "outputs": [
    {
     "data": {
      "text/plain": [
       "Index(['price', 'year', 'manufacturer', 'model', 'condition', 'cylinders'], dtype='object')"
      ]
     },
     "execution_count": 168,
     "metadata": {},
     "output_type": "execute_result"
    }
   ],
   "source": [
    "tf_data2.columns"
   ]
  },
  {
   "cell_type": "code",
   "execution_count": 158,
   "id": "3291250a",
   "metadata": {},
   "outputs": [
    {
     "data": {
      "text/plain": [
       "price  year    manufacturer  model                         condition  cylinders  \n",
       "29590  2017.0  ford          expedition xlt sport          good       6 cylinders    261\n",
       "25990  2019.0  ram           1500 classic regular cab      good       8 cylinders    235\n",
       "29990  2016.0  chevrolet     colorado extended cab         good       6 cylinders    214\n",
       "25990  2014.0  gmc           sierra 1500 regular cab       good       6 cylinders    207\n",
       "39990  2019.0  nissan        370z nismo coupe 2d           good       6 cylinders    198\n",
       "26990  2016.0  ford          f150 regular cab xl pickup    good       6 cylinders    195\n",
       "24590  2013.0  gmc           sierra 1500 extended cab slt  good       8 cylinders    194\n",
       "36990  2016.0  gmc           sierra 2500 hd double cab     good       8 cylinders    180\n",
       "37990  2016.0  chevrolet     camaro ss coupe 2d            good       8 cylinders    179\n",
       "34590  2016.0  chevrolet     silverado 1500 double         good       6 cylinders    167\n",
       "dtype: int64"
      ]
     },
     "execution_count": 158,
     "metadata": {},
     "output_type": "execute_result"
    }
   ],
   "source": [
    "tf_data2.value_counts().head(10)"
   ]
  },
  {
   "cell_type": "code",
   "execution_count": 173,
   "id": "948d7efb",
   "metadata": {
    "scrolled": true
   },
   "outputs": [
    {
     "data": {
      "text/plain": [
       "<Axes: >"
      ]
     },
     "execution_count": 173,
     "metadata": {},
     "output_type": "execute_result"
    },
    {
     "data": {
      "image/png": "[encoded data removed]",
      "text/plain": [
       "<Figure size 640x480 with 1 Axes>"
      ]
     },
     "metadata": {},
     "output_type": "display_data"
    }
   ],
   "source": [
    "tf_data2.model.value_counts().head(10).plot(kind = 'bar')"
   ]
  },
  {
   "cell_type": "code",
   "execution_count": 145,
   "id": "f2830bbe",
   "metadata": {
    "scrolled": true
   },
   "outputs": [],
   "source": [
    "tf_data2.dropna(subset = ['year'], inplace = True)"
   ]
  },
  {
   "cell_type": "code",
   "execution_count": 174,
   "id": "75d8d601",
   "metadata": {
    "scrolled": true
   },
   "outputs": [
    {
     "data": {
      "text/plain": [
       "0"
      ]
     },
     "execution_count": 174,
     "metadata": {},
     "output_type": "execute_result"
    }
   ],
   "source": [
    "tf_data2.year.isna().sum()"
   ]
  },
  {
   "cell_type": "code",
   "execution_count": 177,
   "id": "0f574c47",
   "metadata": {
    "scrolled": false
   },
   "outputs": [],
   "source": [
    "tf_data2.manufacturer.fillna('unknown', inplace = True)"
   ]
  },
  {
   "cell_type": "code",
   "execution_count": 179,
   "id": "c67acede",
   "metadata": {},
   "outputs": [
    {
     "data": {
      "text/plain": [
       "0"
      ]
     },
     "execution_count": 179,
     "metadata": {},
     "output_type": "execute_result"
    }
   ],
   "source": [
    "tf_data2.manufacturer.isna().sum()"
   ]
  },
  {
   "cell_type": "code",
   "execution_count": 182,
   "id": "3d0c1ab9",
   "metadata": {},
   "outputs": [],
   "source": [
    "tf_data2.astype('object').fillna('unknown', inplace = True)"
   ]
  },
  {
   "cell_type": "code",
   "execution_count": 183,
   "id": "9b8acd85",
   "metadata": {},
   "outputs": [
    {
     "data": {
      "text/plain": [
       "price                0\n",
       "year                 0\n",
       "manufacturer         0\n",
       "model             5209\n",
       "condition       172909\n",
       "cylinders       177591\n",
       "dtype: int64"
      ]
     },
     "execution_count": 183,
     "metadata": {},
     "output_type": "execute_result"
    }
   ],
   "source": [
    "tf_data2.isna().sum()"
   ]
  },
  {
   "cell_type": "code",
   "execution_count": null,
   "id": "c8ad076d",
   "metadata": {},
   "outputs": [],
   "source": []
  }
 ],
 "metadata": {
  "kernelspec": {
   "display_name": "Python 3 (ipykernel)",
   "language": "python",
   "name": "python3"
  },
  "language_info": {
   "codemirror_mode": {
    "name": "ipython",
    "version": 3
   },
   "file_extension": ".py",
   "mimetype": "text/x-python",
   "name": "python",
   "nbconvert_exporter": "python",
   "pygments_lexer": "ipython3",
   "version": "3.10.9"
  }
 },
 "nbformat": 4,
 "nbformat_minor": 5
}
